{
 "cells": [
  {
   "cell_type": "code",
   "execution_count": null,
   "metadata": {
    "collapsed": true
   },
   "outputs": [],
   "source": [
    "from google.protobuf import text_format\n",
    "from ffn.inference import inference\n",
    "from ffn.inference import inference_pb2"
   ]
  },
  {
   "cell_type": "code",
   "execution_count": null,
   "metadata": {
    "collapsed": true
   },
   "outputs": [],
   "source": [
    "config = '''image {\n",
    "  hdf5: \"third_party/neuroproof_examples/training_sample2/grayscale_maps.h5:raw\"\n",
    "}\n",
    "image_mean: 128\n",
    "image_stddev: 33\n",
    "checkpoint_interval: 1800\n",
    "seed_policy: \"PolicyPeaks\"\n",
    "model_checkpoint_path: \"models/fib25/model.ckpt-27465036\"\n",
    "model_name: \"convstack_3d.ConvStack3DFFNModel\"\n",
    "model_args: \"{\\\\\"depth\\\\\": 12, \\\\\"fov_size\\\\\": [33, 33, 33], \\\\\"deltas\\\\\": [8, 8, 8]}\"\n",
    "segmentation_output_dir: \"results/fib25/training2\"\n",
    "inference_options {\n",
    "  init_activation: 0.95\n",
    "  pad_value: 0.05\n",
    "  move_threshold: 0.9\n",
    "  min_boundary_dist { x: 1 y: 1 z: 1}\n",
    "  segment_threshold: 0.6\n",
    "  min_segment_size: 1000\n",
    "}'''\n",
    "req = inference_pb2.InferenceRequest()\n",
    "_ = text_format.Parse(config, req)"
   ]
  },
  {
   "cell_type": "code",
   "execution_count": null,
   "metadata": {},
   "outputs": [],
   "source": [
    "runner = inference.Runner()\n",
    "runner.start(req)\n",
    "canvas, alignment = runner.make_canvas((0, 0, 0), (250, 250, 250))"
   ]
  },
  {
   "cell_type": "code",
   "execution_count": null,
   "metadata": {},
   "outputs": [],
   "source": [
    "# Create a single segment, starting from the specified origin point.\n",
    "canvas.segment_at((125, 125, 125),  # zyx\n",
    "                  dynamic_image=inference.DynamicImage(),\n",
    "                  vis_update_every=1)"
   ]
  },
  {
   "cell_type": "code",
   "execution_count": null,
   "metadata": {
    "collapsed": true
   },
   "outputs": [],
   "source": []
  }
 ],
 "metadata": {
  "kernelspec": {
   "display_name": "Python 3",
   "language": "python",
   "name": "python3"
  },
  "language_info": {
   "codemirror_mode": {
    "name": "ipython",
    "version": 3
   },
   "file_extension": ".py",
   "mimetype": "text/x-python",
   "name": "python",
   "nbconvert_exporter": "python",
   "pygments_lexer": "ipython3",
   "version": "3.6.1"
  }
 },
 "nbformat": 4,
 "nbformat_minor": 2
}
